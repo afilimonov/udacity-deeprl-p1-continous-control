{
 "cells": [
  {
   "cell_type": "markdown",
   "metadata": {},
   "source": [
    "# Continuous Control\n",
    "\n",
    "---\n",
    "\n",
    "You are welcome to use this coding environment to train your agent for the project.  Follow the instructions below to get started!\n",
    "\n",
    "### 1. Start the Environment\n",
    "\n",
    "Run the next code cell to install a few packages.  This line will take a few minutes to run!"
   ]
  },
  {
   "cell_type": "code",
   "execution_count": 1,
   "metadata": {},
   "outputs": [
    {
     "name": "stdout",
     "output_type": "stream",
     "text": [
      "\u001b[31mtensorflow 1.7.1 has requirement numpy>=1.13.3, but you'll have numpy 1.12.1 which is incompatible.\u001b[0m\r\n",
      "\u001b[31mipython 6.5.0 has requirement prompt-toolkit<2.0.0,>=1.0.15, but you'll have prompt-toolkit 3.0.18 which is incompatible.\u001b[0m\r\n"
     ]
    }
   ],
   "source": [
    "!pip -q install ./python"
   ]
  },
  {
   "cell_type": "markdown",
   "metadata": {},
   "source": [
    "The environments corresponding to both versions of the environment are already saved in the Workspace and can be accessed at the file paths provided below.  \n",
    "\n",
    "Please select one of the two options below for loading the environment."
   ]
  },
  {
   "cell_type": "code",
   "execution_count": 2,
   "metadata": {},
   "outputs": [
    {
     "name": "stderr",
     "output_type": "stream",
     "text": [
      "INFO:unityagents:\n",
      "'Academy' started successfully!\n",
      "Unity Academy name: Academy\n",
      "        Number of Brains: 1\n",
      "        Number of External Brains : 1\n",
      "        Lesson number : 0\n",
      "        Reset Parameters :\n",
      "\t\tgoal_speed -> 1.0\n",
      "\t\tgoal_size -> 5.0\n",
      "Unity brain name: ReacherBrain\n",
      "        Number of Visual Observations (per agent): 0\n",
      "        Vector Observation space type: continuous\n",
      "        Vector Observation space size (per agent): 33\n",
      "        Number of stacked Vector Observation: 1\n",
      "        Vector Action space type: continuous\n",
      "        Vector Action space size (per agent): 4\n",
      "        Vector Action descriptions: , , , \n"
     ]
    }
   ],
   "source": [
    "from unityagents import UnityEnvironment\n",
    "import numpy as np\n",
    "\n",
    "# select this option to load version 1 (with a single agent) of the environment\n",
    "# env = UnityEnvironment(file_name='/data/Reacher_One_Linux_NoVis/Reacher_One_Linux_NoVis.x86_64')\n",
    "\n",
    "# select this option to load version 2 (with 20 agents) of the environment\n",
    "env = UnityEnvironment(file_name='/data/Reacher_Linux_NoVis/Reacher.x86_64')"
   ]
  },
  {
   "cell_type": "markdown",
   "metadata": {},
   "source": [
    "Environments contain **_brains_** which are responsible for deciding the actions of their associated agents. Here we check for the first brain available, and set it as the default brain we will be controlling from Python."
   ]
  },
  {
   "cell_type": "code",
   "execution_count": 3,
   "metadata": {},
   "outputs": [],
   "source": [
    "# get the default brain\n",
    "brain_name = env.brain_names[0]\n",
    "brain = env.brains[brain_name]"
   ]
  },
  {
   "cell_type": "markdown",
   "metadata": {},
   "source": [
    "### 2. Examine the State and Action Spaces\n",
    "\n",
    "Run the code cell below to print some information about the environment."
   ]
  },
  {
   "cell_type": "code",
   "execution_count": 4,
   "metadata": {},
   "outputs": [
    {
     "name": "stdout",
     "output_type": "stream",
     "text": [
      "Number of agents: 20\n",
      "Size of each action: 4\n",
      "There are 20 agents. Each observes a state with length: 33\n",
      "The state for the first agent looks like: [  0.00000000e+00  -4.00000000e+00   0.00000000e+00   1.00000000e+00\n",
      "  -0.00000000e+00  -0.00000000e+00  -4.37113883e-08   0.00000000e+00\n",
      "   0.00000000e+00   0.00000000e+00   0.00000000e+00   0.00000000e+00\n",
      "   0.00000000e+00   0.00000000e+00  -1.00000000e+01   0.00000000e+00\n",
      "   1.00000000e+00  -0.00000000e+00  -0.00000000e+00  -4.37113883e-08\n",
      "   0.00000000e+00   0.00000000e+00   0.00000000e+00   0.00000000e+00\n",
      "   0.00000000e+00   0.00000000e+00   5.75471878e+00  -1.00000000e+00\n",
      "   5.55726624e+00   0.00000000e+00   1.00000000e+00   0.00000000e+00\n",
      "  -1.68164849e-01]\n"
     ]
    }
   ],
   "source": [
    "# reset the environment\n",
    "env_info = env.reset(train_mode=True)[brain_name]\n",
    "\n",
    "# number of agents\n",
    "num_agents = len(env_info.agents)\n",
    "print('Number of agents:', num_agents)\n",
    "\n",
    "# size of each action\n",
    "action_size = brain.vector_action_space_size\n",
    "print('Size of each action:', action_size)\n",
    "\n",
    "# examine the state space \n",
    "states = env_info.vector_observations\n",
    "state_size = states.shape[1]\n",
    "print('There are {} agents. Each observes a state with length: {}'.format(states.shape[0], state_size))\n",
    "print('The state for the first agent looks like:', states[0])"
   ]
  },
  {
   "cell_type": "markdown",
   "metadata": {},
   "source": [
    "### 3. Take Random Actions in the Environment\n",
    "\n",
    "In the next code cell, you will learn how to use the Python API to control the agent and receive feedback from the environment.\n",
    "\n",
    "Note that **in this coding environment, you will not be able to watch the agents while they are training**, and you should set `train_mode=True` to restart the environment."
   ]
  },
  {
   "cell_type": "code",
   "execution_count": 5,
   "metadata": {},
   "outputs": [
    {
     "name": "stdout",
     "output_type": "stream",
     "text": [
      "Total score (averaged over agents) this episode: 0.06999999843537807\n"
     ]
    }
   ],
   "source": [
    "env_info = env.reset(train_mode=True)[brain_name]      # reset the environment    \n",
    "states = env_info.vector_observations                  # get the current state (for each agent)\n",
    "scores = np.zeros(num_agents)                          # initialize the score (for each agent)\n",
    "while True:\n",
    "    actions = np.random.randn(num_agents, action_size) # select an action (for each agent)\n",
    "    actions = np.clip(actions, -1, 1)                  # all actions between -1 and 1\n",
    "    env_info = env.step(actions)[brain_name]           # send all actions to tne environment\n",
    "    next_states = env_info.vector_observations         # get next state (for each agent)\n",
    "    rewards = env_info.rewards                         # get reward (for each agent)\n",
    "    dones = env_info.local_done                        # see if episode finished\n",
    "    scores += env_info.rewards                         # update the score (for each agent)\n",
    "    states = next_states                               # roll over states to next time step\n",
    "    if np.any(dones):                                  # exit loop if episode finished\n",
    "        break\n",
    "print('Total score (averaged over agents) this episode: {}'.format(np.mean(scores)))"
   ]
  },
  {
   "cell_type": "markdown",
   "metadata": {},
   "source": [
    "When finished, you can close the environment."
   ]
  },
  {
   "cell_type": "markdown",
   "metadata": {},
   "source": [
    "### 4. It's Your Turn!\n",
    "\n",
    "Now it's your turn to train your own agent to solve the environment!  A few **important notes**:\n",
    "- When training the environment, set `train_mode=True`, so that the line for resetting the environment looks like the following:\n",
    "```python\n",
    "env_info = env.reset(train_mode=True)[brain_name]\n",
    "```\n",
    "- To structure your work, you're welcome to work directly in this Jupyter notebook, or you might like to start over with a new file!  You can see the list of files in the workspace by clicking on **_Jupyter_** in the top left corner of the notebook.\n",
    "- In this coding environment, you will not be able to watch the agents while they are training.  However, **_after training the agents_**, you can download the saved model weights to watch the agents on your own machine! "
   ]
  },
  {
   "cell_type": "code",
   "execution_count": 6,
   "metadata": {},
   "outputs": [],
   "source": [
    "from agent import Agent\n",
    "import torch\n",
    "import time\n",
    "\n",
    "target_score = 30.0\n",
    "window = 100"
   ]
  },
  {
   "cell_type": "code",
   "execution_count": 7,
   "metadata": {},
   "outputs": [
    {
     "name": "stdout",
     "output_type": "stream",
     "text": [
      "Episode   1 (02m44s)\tScore:  1.48 \tAverage score:  1.48 \n",
      "Episode   2 (02m48s)\tScore:  2.99 \tAverage score:  2.24 \n",
      "Episode   3 (02m50s)\tScore:  5.18 \tAverage score:  3.22 \n",
      "Episode   4 (02m53s)\tScore:  6.88 \tAverage score:  4.13 \n",
      "Episode   5 (02m53s)\tScore:  9.22 \tAverage score:  5.15 \n",
      "Episode   6 (02m58s)\tScore: 14.85 \tAverage score:  6.77 \n",
      "Episode   7 (02m56s)\tScore: 15.67 \tAverage score:  8.04 \n",
      "Episode   8 (02m56s)\tScore: 17.49 \tAverage score:  9.22 \n",
      "Episode   9 (02m57s)\tScore: 21.43 \tAverage score: 10.58 \n",
      "Episode  10 (02m58s)\tScore: 27.90 \tAverage score: 12.31 \n",
      "Episode  11 (02m58s)\tScore: 29.41 \tAverage score: 13.86 \n",
      "Episode  12 (02m58s)\tScore: 29.11 \tAverage score: 15.13 \n",
      "Episode  13 (02m59s)\tScore: 33.68 \tAverage score: 16.56 \n",
      "Episode  14 (02m57s)\tScore: 30.97 \tAverage score: 17.59 \n",
      "Episode  15 (02m57s)\tScore: 30.15 \tAverage score: 18.43 \n",
      "Episode  16 (02m56s)\tScore: 31.46 \tAverage score: 19.24 \n",
      "Episode  17 (02m56s)\tScore: 32.21 \tAverage score: 20.00 \n",
      "Episode  18 (02m56s)\tScore: 32.77 \tAverage score: 20.71 \n",
      "Episode  19 (02m55s)\tScore: 28.73 \tAverage score: 21.14 \n",
      "Episode  20 (02m55s)\tScore: 32.42 \tAverage score: 21.70 \n",
      "Episode  21 (02m54s)\tScore: 32.98 \tAverage score: 22.24 \n",
      "Episode  22 (02m54s)\tScore: 33.16 \tAverage score: 22.73 \n",
      "Episode  23 (02m54s)\tScore: 33.07 \tAverage score: 23.18 \n",
      "Episode  24 (02m54s)\tScore: 31.11 \tAverage score: 23.51 \n",
      "Episode  25 (02m52s)\tScore: 32.76 \tAverage score: 23.88 \n",
      "Episode  26 (02m56s)\tScore: 34.43 \tAverage score: 24.29 \n",
      "Episode  27 (02m56s)\tScore: 33.76 \tAverage score: 24.64 \n",
      "Episode  28 (02m57s)\tScore: 33.65 \tAverage score: 24.96 \n",
      "Episode  29 (02m58s)\tScore: 30.98 \tAverage score: 25.17 \n",
      "Episode  30 (02m59s)\tScore: 33.15 \tAverage score: 25.44 \n",
      "Episode  31 (03m00s)\tScore: 34.07 \tAverage score: 25.71 \n",
      "Episode  32 (02m55s)\tScore: 34.53 \tAverage score: 25.99 \n",
      "Episode  33 (02m57s)\tScore: 31.78 \tAverage score: 26.17 \n",
      "Episode  34 (02m57s)\tScore: 34.48 \tAverage score: 26.41 \n",
      "Episode  35 (02m59s)\tScore: 33.11 \tAverage score: 26.60 \n",
      "Episode  36 (03m00s)\tScore: 34.27 \tAverage score: 26.81 \n",
      "Episode  37 (02m59s)\tScore: 34.70 \tAverage score: 27.03 \n",
      "Episode  38 (03m00s)\tScore: 33.62 \tAverage score: 27.20 \n",
      "Episode  39 (02m55s)\tScore: 31.48 \tAverage score: 27.31 \n",
      "Episode  40 (02m54s)\tScore: 29.64 \tAverage score: 27.37 \n",
      "Episode  41 (02m53s)\tScore: 35.24 \tAverage score: 27.56 \n",
      "Episode  42 (02m52s)\tScore: 38.06 \tAverage score: 27.81 \n",
      "Episode  43 (02m54s)\tScore: 33.11 \tAverage score: 27.93 \n",
      "Episode  44 (02m56s)\tScore: 32.89 \tAverage score: 28.05 \n",
      "Episode  45 (02m57s)\tScore: 34.77 \tAverage score: 28.20 \n",
      "Episode  46 (02m55s)\tScore: 33.58 \tAverage score: 28.31 \n",
      "Episode  47 (02m57s)\tScore: 35.30 \tAverage score: 28.46 \n",
      "Episode  48 (02m56s)\tScore: 33.97 \tAverage score: 28.58 \n",
      "Episode  49 (02m57s)\tScore: 36.14 \tAverage score: 28.73 \n",
      "Episode  50 (02m53s)\tScore: 35.48 \tAverage score: 28.87 \n",
      "Episode  51 (02m55s)\tScore: 31.01 \tAverage score: 28.91 \n",
      "Episode  52 (02m54s)\tScore: 34.19 \tAverage score: 29.01 \n",
      "Episode  53 (02m53s)\tScore: 32.46 \tAverage score: 29.07 \n",
      "Episode  54 (02m53s)\tScore: 34.94 \tAverage score: 29.18 \n",
      "Episode  55 (02m54s)\tScore: 33.86 \tAverage score: 29.27 \n",
      "Episode  56 (02m54s)\tScore: 35.50 \tAverage score: 29.38 \n",
      "Episode  57 (02m54s)\tScore: 35.11 \tAverage score: 29.48 \n",
      "Episode  58 (02m53s)\tScore: 34.16 \tAverage score: 29.56 \n",
      "Episode  59 (02m53s)\tScore: 31.08 \tAverage score: 29.59 \n",
      "Episode  60 (02m52s)\tScore: 34.61 \tAverage score: 29.67 \n",
      "Episode  61 (02m53s)\tScore: 33.49 \tAverage score: 29.73 \n",
      "Episode  62 (02m51s)\tScore: 35.09 \tAverage score: 29.82 \n",
      "Episode  63 (02m50s)\tScore: 33.66 \tAverage score: 29.88 \n",
      "Episode  64 (02m54s)\tScore: 31.23 \tAverage score: 29.90 \n",
      "Episode  65 (02m52s)\tScore: 35.30 \tAverage score: 29.98 \n",
      "Episode  66 (02m51s)\tScore: 37.17 \tAverage score: 30.09 \n",
      "Episode  67 (02m53s)\tScore: 34.30 \tAverage score: 30.16 \n",
      "Episode  68 (02m51s)\tScore: 37.61 \tAverage score: 30.27 \n",
      "Episode  69 (02m51s)\tScore: 36.02 \tAverage score: 30.35 \n",
      "Episode  70 (02m52s)\tScore: 34.61 \tAverage score: 30.41 \n",
      "Episode  71 (02m51s)\tScore: 33.59 \tAverage score: 30.46 \n",
      "Episode  72 (02m51s)\tScore: 36.74 \tAverage score: 30.54 \n",
      "Episode  73 (02m51s)\tScore: 34.89 \tAverage score: 30.60 \n",
      "Episode  74 (02m51s)\tScore: 34.40 \tAverage score: 30.65 \n",
      "Episode  75 (02m50s)\tScore: 36.52 \tAverage score: 30.73 \n",
      "Episode  76 (02m50s)\tScore: 35.30 \tAverage score: 30.79 \n",
      "Episode  77 (02m53s)\tScore: 33.12 \tAverage score: 30.82 \n",
      "Episode  78 (02m51s)\tScore: 34.03 \tAverage score: 30.86 \n",
      "Episode  79 (02m52s)\tScore: 34.20 \tAverage score: 30.91 \n",
      "Episode  80 (02m51s)\tScore: 34.49 \tAverage score: 30.95 \n",
      "Episode  81 (02m51s)\tScore: 35.20 \tAverage score: 31.00 \n",
      "Episode  82 (02m52s)\tScore: 34.86 \tAverage score: 31.05 \n",
      "Episode  83 (02m52s)\tScore: 35.30 \tAverage score: 31.10 \n",
      "Episode  84 (02m52s)\tScore: 33.73 \tAverage score: 31.13 \n",
      "Episode  85 (02m51s)\tScore: 35.61 \tAverage score: 31.18 \n",
      "Episode  86 (02m49s)\tScore: 35.15 \tAverage score: 31.23 \n",
      "Episode  87 (02m47s)\tScore: 35.12 \tAverage score: 31.28 \n",
      "Episode  88 (02m47s)\tScore: 34.78 \tAverage score: 31.32 \n",
      "Episode  89 (02m47s)\tScore: 35.91 \tAverage score: 31.37 \n",
      "Episode  90 (02m48s)\tScore: 33.78 \tAverage score: 31.39 \n",
      "Episode  91 (02m49s)\tScore: 34.35 \tAverage score: 31.43 \n",
      "Episode  92 (02m49s)\tScore: 36.37 \tAverage score: 31.48 \n",
      "Episode  93 (02m49s)\tScore: 37.96 \tAverage score: 31.55 \n",
      "Episode  94 (02m48s)\tScore: 36.11 \tAverage score: 31.60 \n",
      "Episode  95 (02m49s)\tScore: 35.30 \tAverage score: 31.64 \n",
      "Episode  96 (02m48s)\tScore: 38.36 \tAverage score: 31.71 \n",
      "Episode  97 (02m49s)\tScore: 36.11 \tAverage score: 31.75 \n",
      "Episode  98 (02m47s)\tScore: 33.45 \tAverage score: 31.77 \n",
      "Episode  99 (02m46s)\tScore: 32.30 \tAverage score: 31.78 \n",
      "Episode 100 (02m48s)\tScore: 34.18 \tAverage score: 31.80 \n",
      "\n",
      "Environment solved in 0 episodes!\tAverage Score: 31.80\tElapsed time: 04h49m33s\n",
      "\n",
      "Saving model ... done.\n"
     ]
    }
   ],
   "source": [
    "agent = Agent(state_size, action_size, random_seed=0)\n",
    "\n",
    "# Train the Agent\n",
    "scores, moving_avg = agent.train(env, target_score=target_score, mean_window=window)"
   ]
  },
  {
   "cell_type": "code",
   "execution_count": 11,
   "metadata": {},
   "outputs": [
    {
     "data": {
      "image/png": "[encoded data removed]",
      "text/plain": [
       "<matplotlib.figure.Figure at 0x7f7cc43901d0>"
      ]
     },
     "metadata": {
      "needs_background": "light"
     },
     "output_type": "display_data"
    }
   ],
   "source": [
    "# Plotting training results\n",
    "\n",
    "import matplotlib.pyplot as plt\n",
    "\n",
    "scores_mean = np.mean(scores, axis=1)\n",
    "moving_avg_mean = np.mean(moving_avg, axis=1)\n",
    "target_line = [target_score] * len(scores) # Target score line\n",
    "\n",
    "fig = plt.figure(figsize=(18,8))\n",
    "fig.suptitle('Training results', fontsize='xx-large')\n",
    "\n",
    "ax = fig.add_subplot(111)\n",
    "ax.plot(scores_mean, label='Score', color='Blue')\n",
    "ax.plot(moving_avg_mean, label='Average score',\n",
    "        color='LightGreen', linewidth=3)\n",
    "ax.plot(target_line, linestyle='dotted', color='LightCoral', linewidth=1 )\n",
    "ax.text(0, target_score+1, 'Target', color='LightCoral', fontsize='large')\n",
    "ax.set_ylabel('Score')\n",
    "ax.set_xlabel('Episode #')\n",
    "ax.legend(fontsize='xx-large', loc='lower right')\n",
    "\n",
    "plt.show()"
   ]
  },
  {
   "cell_type": "code",
   "execution_count": 12,
   "metadata": {},
   "outputs": [],
   "source": [
    "## Load the trained model\n",
    "agent = Agent(state_size, action_size, random_seed=0)\n",
    "agent.load()\n"
   ]
  },
  {
   "cell_type": "code",
   "execution_count": 13,
   "metadata": {},
   "outputs": [
    {
     "name": "stdout",
     "output_type": "stream",
     "text": [
      "Score for this episode: 33.47\n"
     ]
    }
   ],
   "source": [
    "## Test the agent\n",
    "scores = agent.test(env)\n",
    "\n",
    "print('Score for this episode: {:.2f}'.format(scores.mean()))"
   ]
  },
  {
   "cell_type": "code",
   "execution_count": null,
   "metadata": {},
   "outputs": [],
   "source": []
  }
 ],
 "metadata": {
  "kernelspec": {
   "display_name": "Python 3",
   "language": "python",
   "name": "python3"
  },
  "language_info": {
   "codemirror_mode": {
    "name": "ipython",
    "version": 3
   },
   "file_extension": ".py",
   "mimetype": "text/x-python",
   "name": "python",
   "nbconvert_exporter": "python",
   "pygments_lexer": "ipython3",
   "version": "3.6.3"
  }
 },
 "nbformat": 4,
 "nbformat_minor": 2
}
